{
 "cells": [
  {
   "cell_type": "code",
   "execution_count": 2,
   "metadata": {},
   "outputs": [],
   "source": [
    "import pandas as pd\n",
    "import os\n",
    "import glob"
   ]
  },
  {
   "cell_type": "code",
   "execution_count": 13,
   "metadata": {},
   "outputs": [],
   "source": [
    "from bs4 import BeautifulSoup\n",
    "from selenium import webdriver"
   ]
  },
  {
   "cell_type": "code",
   "execution_count": 3,
   "metadata": {},
   "outputs": [
    {
     "data": {
      "text/plain": [
       "'/home/azlaan/KIMOai/scraping/kimo/datasets'"
      ]
     },
     "execution_count": 3,
     "metadata": {},
     "output_type": "execute_result"
    }
   ],
   "source": [
    "os.getcwd()"
   ]
  },
  {
   "cell_type": "code",
   "execution_count": 4,
   "metadata": {},
   "outputs": [
    {
     "data": {
      "text/plain": [
       "['.ipynb_checkpoints',\n",
       " 'final_dataset',\n",
       " 'second',\n",
       " 'scraped_dataset_analysis.ipynb']"
      ]
     },
     "execution_count": 4,
     "metadata": {},
     "output_type": "execute_result"
    }
   ],
   "source": [
    "os.listdir(os.getcwd())"
   ]
  },
  {
   "cell_type": "code",
   "execution_count": 5,
   "metadata": {},
   "outputs": [
    {
     "data": {
      "text/html": [
       "<div>\n",
       "<style scoped>\n",
       "    .dataframe tbody tr th:only-of-type {\n",
       "        vertical-align: middle;\n",
       "    }\n",
       "\n",
       "    .dataframe tbody tr th {\n",
       "        vertical-align: top;\n",
       "    }\n",
       "\n",
       "    .dataframe thead th {\n",
       "        text-align: right;\n",
       "    }\n",
       "</style>\n",
       "<table border=\"1\" class=\"dataframe\">\n",
       "  <thead>\n",
       "    <tr style=\"text-align: right;\">\n",
       "      <th></th>\n",
       "      <th>Unnamed: 0</th>\n",
       "      <th>Title</th>\n",
       "      <th>Url</th>\n",
       "      <th>Date</th>\n",
       "      <th>Summary</th>\n",
       "      <th>Industry</th>\n",
       "    </tr>\n",
       "  </thead>\n",
       "  <tbody>\n",
       "    <tr>\n",
       "      <th>0</th>\n",
       "      <td>0</td>\n",
       "      <td>Why the US-China Tariff Standoff Hurts America...</td>\n",
       "      <td>/item/why-the-us-china-tariff-standoff-hurts-a...</td>\n",
       "      <td>26 Jun 2019</td>\n",
       "      <td>US exporters have been slashing the prices of ...</td>\n",
       "      <td>Mining and Metal</td>\n",
       "    </tr>\n",
       "    <tr>\n",
       "      <th>1</th>\n",
       "      <td>1</td>\n",
       "      <td>Should US Companies Still Care About the Paris...</td>\n",
       "      <td>/item/should-us-companies-still-care-about-the...</td>\n",
       "      <td>06 Sep 2018</td>\n",
       "      <td>American President Donald Trump pulled out of ...</td>\n",
       "      <td>Mining and Metal</td>\n",
       "    </tr>\n",
       "    <tr>\n",
       "      <th>2</th>\n",
       "      <td>2</td>\n",
       "      <td>Op-Ed: The Trouble with Tariffs</td>\n",
       "      <td>/item/op-ed-the-trouble-with-tariffs</td>\n",
       "      <td>12 Apr 2018</td>\n",
       "      <td>The world's economies are interconnected by gl...</td>\n",
       "      <td>Mining and Metal</td>\n",
       "    </tr>\n",
       "    <tr>\n",
       "      <th>3</th>\n",
       "      <td>3</td>\n",
       "      <td>Op-Ed: Trump’s Tariffs Could Harm Allies as Mu...</td>\n",
       "      <td>/item/trump-s-tariffs-could-harm-allies-as-wel...</td>\n",
       "      <td>02 Mar 2018</td>\n",
       "      <td>President Trump's duties on steel and aluminum...</td>\n",
       "      <td>Mining and Metal</td>\n",
       "    </tr>\n",
       "    <tr>\n",
       "      <th>4</th>\n",
       "      <td>4</td>\n",
       "      <td>How 'Teaming' Saved 33 Lives in the Chilean Mi...</td>\n",
       "      <td>/item/how-teaming-saved-33-lives-in-the-chilea...</td>\n",
       "      <td>29 Jan 2018</td>\n",
       "      <td>Teams composed of people from across expertise...</td>\n",
       "      <td>Mining and Metal</td>\n",
       "    </tr>\n",
       "  </tbody>\n",
       "</table>\n",
       "</div>"
      ],
      "text/plain": [
       "   Unnamed: 0                                              Title  \\\n",
       "0           0  Why the US-China Tariff Standoff Hurts America...   \n",
       "1           1  Should US Companies Still Care About the Paris...   \n",
       "2           2                    Op-Ed: The Trouble with Tariffs   \n",
       "3           3  Op-Ed: Trump’s Tariffs Could Harm Allies as Mu...   \n",
       "4           4  How 'Teaming' Saved 33 Lives in the Chilean Mi...   \n",
       "\n",
       "                                                 Url         Date  \\\n",
       "0  /item/why-the-us-china-tariff-standoff-hurts-a...  26 Jun 2019   \n",
       "1  /item/should-us-companies-still-care-about-the...  06 Sep 2018   \n",
       "2               /item/op-ed-the-trouble-with-tariffs  12 Apr 2018   \n",
       "3  /item/trump-s-tariffs-could-harm-allies-as-wel...  02 Mar 2018   \n",
       "4  /item/how-teaming-saved-33-lives-in-the-chilea...  29 Jan 2018   \n",
       "\n",
       "                                             Summary          Industry  \n",
       "0  US exporters have been slashing the prices of ...  Mining and Metal  \n",
       "1  American President Donald Trump pulled out of ...  Mining and Metal  \n",
       "2  The world's economies are interconnected by gl...  Mining and Metal  \n",
       "3  President Trump's duties on steel and aluminum...  Mining and Metal  \n",
       "4  Teams composed of people from across expertise...  Mining and Metal  "
      ]
     },
     "execution_count": 5,
     "metadata": {},
     "output_type": "execute_result"
    }
   ],
   "source": [
    "final = pd.read_csv('final_dataset/final_0.csv')\n",
    "final.head()"
   ]
  },
  {
   "cell_type": "code",
   "execution_count": 7,
   "metadata": {},
   "outputs": [
    {
     "data": {
      "text/html": [
       "<div>\n",
       "<style scoped>\n",
       "    .dataframe tbody tr th:only-of-type {\n",
       "        vertical-align: middle;\n",
       "    }\n",
       "\n",
       "    .dataframe tbody tr th {\n",
       "        vertical-align: top;\n",
       "    }\n",
       "\n",
       "    .dataframe thead th {\n",
       "        text-align: right;\n",
       "    }\n",
       "</style>\n",
       "<table border=\"1\" class=\"dataframe\">\n",
       "  <thead>\n",
       "    <tr style=\"text-align: right;\">\n",
       "      <th></th>\n",
       "      <th>Title</th>\n",
       "      <th>Url</th>\n",
       "      <th>Date</th>\n",
       "      <th>Summary</th>\n",
       "      <th>Industry</th>\n",
       "    </tr>\n",
       "  </thead>\n",
       "  <tbody>\n",
       "    <tr>\n",
       "      <th>0</th>\n",
       "      <td>Why the US-China Tariff Standoff Hurts America...</td>\n",
       "      <td>/item/why-the-us-china-tariff-standoff-hurts-a...</td>\n",
       "      <td>26 Jun 2019</td>\n",
       "      <td>US exporters have been slashing the prices of ...</td>\n",
       "      <td>Mining and Metal</td>\n",
       "    </tr>\n",
       "    <tr>\n",
       "      <th>1</th>\n",
       "      <td>Should US Companies Still Care About the Paris...</td>\n",
       "      <td>/item/should-us-companies-still-care-about-the...</td>\n",
       "      <td>06 Sep 2018</td>\n",
       "      <td>American President Donald Trump pulled out of ...</td>\n",
       "      <td>Mining and Metal</td>\n",
       "    </tr>\n",
       "    <tr>\n",
       "      <th>2</th>\n",
       "      <td>Op-Ed: The Trouble with Tariffs</td>\n",
       "      <td>/item/op-ed-the-trouble-with-tariffs</td>\n",
       "      <td>12 Apr 2018</td>\n",
       "      <td>The world's economies are interconnected by gl...</td>\n",
       "      <td>Mining and Metal</td>\n",
       "    </tr>\n",
       "    <tr>\n",
       "      <th>3</th>\n",
       "      <td>Op-Ed: Trump’s Tariffs Could Harm Allies as Mu...</td>\n",
       "      <td>/item/trump-s-tariffs-could-harm-allies-as-wel...</td>\n",
       "      <td>02 Mar 2018</td>\n",
       "      <td>President Trump's duties on steel and aluminum...</td>\n",
       "      <td>Mining and Metal</td>\n",
       "    </tr>\n",
       "    <tr>\n",
       "      <th>4</th>\n",
       "      <td>How 'Teaming' Saved 33 Lives in the Chilean Mi...</td>\n",
       "      <td>/item/how-teaming-saved-33-lives-in-the-chilea...</td>\n",
       "      <td>29 Jan 2018</td>\n",
       "      <td>Teams composed of people from across expertise...</td>\n",
       "      <td>Mining and Metal</td>\n",
       "    </tr>\n",
       "  </tbody>\n",
       "</table>\n",
       "</div>"
      ],
      "text/plain": [
       "                                               Title  \\\n",
       "0  Why the US-China Tariff Standoff Hurts America...   \n",
       "1  Should US Companies Still Care About the Paris...   \n",
       "2                    Op-Ed: The Trouble with Tariffs   \n",
       "3  Op-Ed: Trump’s Tariffs Could Harm Allies as Mu...   \n",
       "4  How 'Teaming' Saved 33 Lives in the Chilean Mi...   \n",
       "\n",
       "                                                 Url         Date  \\\n",
       "0  /item/why-the-us-china-tariff-standoff-hurts-a...  26 Jun 2019   \n",
       "1  /item/should-us-companies-still-care-about-the...  06 Sep 2018   \n",
       "2               /item/op-ed-the-trouble-with-tariffs  12 Apr 2018   \n",
       "3  /item/trump-s-tariffs-could-harm-allies-as-wel...  02 Mar 2018   \n",
       "4  /item/how-teaming-saved-33-lives-in-the-chilea...  29 Jan 2018   \n",
       "\n",
       "                                             Summary          Industry  \n",
       "0  US exporters have been slashing the prices of ...  Mining and Metal  \n",
       "1  American President Donald Trump pulled out of ...  Mining and Metal  \n",
       "2  The world's economies are interconnected by gl...  Mining and Metal  \n",
       "3  President Trump's duties on steel and aluminum...  Mining and Metal  \n",
       "4  Teams composed of people from across expertise...  Mining and Metal  "
      ]
     },
     "execution_count": 7,
     "metadata": {},
     "output_type": "execute_result"
    }
   ],
   "source": [
    "final.drop(columns=['Unnamed: 0'], inplace=True)\n",
    "final.head()"
   ]
  },
  {
   "cell_type": "code",
   "execution_count": 10,
   "metadata": {},
   "outputs": [],
   "source": [
    "final['Url'] = 'https://hbswk.hbs.edu' + final['Url'] "
   ]
  },
  {
   "cell_type": "code",
   "execution_count": 11,
   "metadata": {
    "scrolled": true
   },
   "outputs": [
    {
     "data": {
      "text/html": [
       "<div>\n",
       "<style scoped>\n",
       "    .dataframe tbody tr th:only-of-type {\n",
       "        vertical-align: middle;\n",
       "    }\n",
       "\n",
       "    .dataframe tbody tr th {\n",
       "        vertical-align: top;\n",
       "    }\n",
       "\n",
       "    .dataframe thead th {\n",
       "        text-align: right;\n",
       "    }\n",
       "</style>\n",
       "<table border=\"1\" class=\"dataframe\">\n",
       "  <thead>\n",
       "    <tr style=\"text-align: right;\">\n",
       "      <th></th>\n",
       "      <th>Title</th>\n",
       "      <th>Url</th>\n",
       "      <th>Date</th>\n",
       "      <th>Summary</th>\n",
       "      <th>Industry</th>\n",
       "    </tr>\n",
       "  </thead>\n",
       "  <tbody>\n",
       "    <tr>\n",
       "      <th>0</th>\n",
       "      <td>Why the US-China Tariff Standoff Hurts America...</td>\n",
       "      <td>https://hbswk.hbs.edu/item/why-the-us-china-ta...</td>\n",
       "      <td>26 Jun 2019</td>\n",
       "      <td>US exporters have been slashing the prices of ...</td>\n",
       "      <td>Mining and Metal</td>\n",
       "    </tr>\n",
       "    <tr>\n",
       "      <th>1</th>\n",
       "      <td>Should US Companies Still Care About the Paris...</td>\n",
       "      <td>https://hbswk.hbs.edu/item/should-us-companies...</td>\n",
       "      <td>06 Sep 2018</td>\n",
       "      <td>American President Donald Trump pulled out of ...</td>\n",
       "      <td>Mining and Metal</td>\n",
       "    </tr>\n",
       "    <tr>\n",
       "      <th>2</th>\n",
       "      <td>Op-Ed: The Trouble with Tariffs</td>\n",
       "      <td>https://hbswk.hbs.edu/item/op-ed-the-trouble-w...</td>\n",
       "      <td>12 Apr 2018</td>\n",
       "      <td>The world's economies are interconnected by gl...</td>\n",
       "      <td>Mining and Metal</td>\n",
       "    </tr>\n",
       "    <tr>\n",
       "      <th>3</th>\n",
       "      <td>Op-Ed: Trump’s Tariffs Could Harm Allies as Mu...</td>\n",
       "      <td>https://hbswk.hbs.edu/item/trump-s-tariffs-cou...</td>\n",
       "      <td>02 Mar 2018</td>\n",
       "      <td>President Trump's duties on steel and aluminum...</td>\n",
       "      <td>Mining and Metal</td>\n",
       "    </tr>\n",
       "    <tr>\n",
       "      <th>4</th>\n",
       "      <td>How 'Teaming' Saved 33 Lives in the Chilean Mi...</td>\n",
       "      <td>https://hbswk.hbs.edu/item/how-teaming-saved-3...</td>\n",
       "      <td>29 Jan 2018</td>\n",
       "      <td>Teams composed of people from across expertise...</td>\n",
       "      <td>Mining and Metal</td>\n",
       "    </tr>\n",
       "  </tbody>\n",
       "</table>\n",
       "</div>"
      ],
      "text/plain": [
       "                                               Title  \\\n",
       "0  Why the US-China Tariff Standoff Hurts America...   \n",
       "1  Should US Companies Still Care About the Paris...   \n",
       "2                    Op-Ed: The Trouble with Tariffs   \n",
       "3  Op-Ed: Trump’s Tariffs Could Harm Allies as Mu...   \n",
       "4  How 'Teaming' Saved 33 Lives in the Chilean Mi...   \n",
       "\n",
       "                                                 Url         Date  \\\n",
       "0  https://hbswk.hbs.edu/item/why-the-us-china-ta...  26 Jun 2019   \n",
       "1  https://hbswk.hbs.edu/item/should-us-companies...  06 Sep 2018   \n",
       "2  https://hbswk.hbs.edu/item/op-ed-the-trouble-w...  12 Apr 2018   \n",
       "3  https://hbswk.hbs.edu/item/trump-s-tariffs-cou...  02 Mar 2018   \n",
       "4  https://hbswk.hbs.edu/item/how-teaming-saved-3...  29 Jan 2018   \n",
       "\n",
       "                                             Summary          Industry  \n",
       "0  US exporters have been slashing the prices of ...  Mining and Metal  \n",
       "1  American President Donald Trump pulled out of ...  Mining and Metal  \n",
       "2  The world's economies are interconnected by gl...  Mining and Metal  \n",
       "3  President Trump's duties on steel and aluminum...  Mining and Metal  \n",
       "4  Teams composed of people from across expertise...  Mining and Metal  "
      ]
     },
     "execution_count": 11,
     "metadata": {},
     "output_type": "execute_result"
    }
   ],
   "source": [
    "final.head()"
   ]
  },
  {
   "cell_type": "code",
   "execution_count": null,
   "metadata": {},
   "outputs": [],
   "source": [
    "chrome_path = os.getcwd() + '/chromedriver.exe'\n",
    "chrome_options = Options()\n",
    "chrome_options.add_argument('--headless')\n",
    "driver = webdriver.Chrome(chrome_path, chrome_opt)"
   ]
  },
  {
   "cell_type": "code",
   "execution_count": null,
   "metadata": {},
   "outputs": [],
   "source": [
    "def get_article(row):\n",
    "    row['Url']"
   ]
  }
 ],
 "metadata": {
  "kernelspec": {
   "display_name": "Python 3",
   "language": "python",
   "name": "python3"
  },
  "language_info": {
   "codemirror_mode": {
    "name": "ipython",
    "version": 2
   },
   "file_extension": ".py",
   "mimetype": "text/x-python",
   "name": "python",
   "nbconvert_exporter": "python",
   "pygments_lexer": "ipython2",
   "version": "2.7.17"
  }
 },
 "nbformat": 4,
 "nbformat_minor": 2
}
